{
 "cells": [
  {
   "cell_type": "code",
   "execution_count": 34,
   "id": "b24afbb5",
   "metadata": {},
   "outputs": [],
   "source": [
    "from pathlib import Path\n",
    "import datetime\n",
    "import torch"
   ]
  },
  {
   "cell_type": "code",
   "execution_count": 35,
   "id": "ad96784c",
   "metadata": {},
   "outputs": [],
   "source": [
    "checkpoints_path = Path('../checkpoints')\n",
    "model_paths = [p.name for p in checkpoints_path.iterdir()]"
   ]
  },
  {
   "cell_type": "code",
   "execution_count": 36,
   "id": "2667c1b5",
   "metadata": {},
   "outputs": [],
   "source": [
    "def show_readable_timestamp(timestamp):\n",
    "    return datetime.datetime.fromtimestamp(timestamp).strftime(\"%Y-%m-%d %H:%M:%S\")"
   ]
  },
  {
   "cell_type": "code",
   "execution_count": 37,
   "id": "3070f697",
   "metadata": {},
   "outputs": [
    {
     "data": {
      "text/plain": [
       "['model_median_norm_1747420642.2972212.pth',\n",
       " 'model_1747361805.9480069.pth',\n",
       " 'model_1747342892.960999.pth',\n",
       " 'model_1747312914.7228448.pth',\n",
       " 'model_median_norm_1747421565.727005.pth',\n",
       " 'model_1747277811.796532.pth',\n",
       " 'model_1747271997.6614552.pth',\n",
       " 'model_w_previous_1747399014.752362.pth',\n",
       " 'model_1747272437.247496.pth',\n",
       " 'model_w_previous_1747364886.764626.pth',\n",
       " 'model_median_norm_1747417676.986485.pth',\n",
       " 'model_median_norm_1747403765.58897.pth']"
      ]
     },
     "execution_count": 37,
     "metadata": {},
     "output_type": "execute_result"
    }
   ],
   "source": [
    "model_paths"
   ]
  },
  {
   "cell_type": "code",
   "execution_count": 40,
   "id": "27ea6e13",
   "metadata": {},
   "outputs": [],
   "source": [
    "paths_and_times = [(path, show_readable_timestamp((checkpoints_path/Path(path)).stat().st_ctime)) for path in model_paths]"
   ]
  },
  {
   "cell_type": "code",
   "execution_count": 30,
   "id": "bc44a77c",
   "metadata": {},
   "outputs": [
    {
     "data": {
      "text/plain": [
       "[(PosixPath('../checkpoints/model_1747271997.6614552.pth'),\n",
       "  '2025-05-14 21:23:18'),\n",
       " (PosixPath('../checkpoints/model_1747272437.247496.pth'),\n",
       "  '2025-05-14 21:31:39'),\n",
       " (PosixPath('../checkpoints/model_1747277811.796532.pth'),\n",
       "  '2025-05-15 08:27:24'),\n",
       " (PosixPath('../checkpoints/model_1747312914.7228448.pth'),\n",
       "  '2025-05-15 16:45:38'),\n",
       " (PosixPath('../checkpoints/model_1747342892.960999.pth'),\n",
       "  '2025-05-15 22:01:41'),\n",
       " (PosixPath('../checkpoints/model_1747361805.9480069.pth'),\n",
       "  '2025-05-15 22:40:16'),\n",
       " (PosixPath('../checkpoints/model_w_previous_1747364886.764626.pth'),\n",
       "  '2025-05-16 08:20:40'),\n",
       " (PosixPath('../checkpoints/model_w_previous_1747399014.752362.pth'),\n",
       "  '2025-05-16 09:44:59'),\n",
       " (PosixPath('../checkpoints/model_median_norm_1747403765.58897.pth'),\n",
       "  '2025-05-16 13:35:03'),\n",
       " (PosixPath('../checkpoints/model_median_norm_1747417676.986485.pth'),\n",
       "  '2025-05-16 14:30:02'),\n",
       " (PosixPath('../checkpoints/model_median_norm_1747420642.2972212.pth'),\n",
       "  '2025-05-16 14:51:29'),\n",
       " (PosixPath('../checkpoints/model_median_norm_1747421565.727005.pth'),\n",
       "  '2025-05-16 15:06:56')]"
      ]
     },
     "execution_count": 30,
     "metadata": {},
     "output_type": "execute_result"
    }
   ],
   "source": [
    "sorted(paths_and_times, key=lambda x: x[1])"
   ]
  },
  {
   "cell_type": "code",
   "execution_count": null,
   "id": "db6a2af8",
   "metadata": {},
   "outputs": [],
   "source": [
    "data_suffixes = {\"median_norm\": \"base_median_norm\",\n",
    "                 \"w_previous\": \"w_previous\",\n",
    "                 \"base\": \"base\"\n",
    "                 }\n",
    "model_types = {}\n",
    "\n",
    "for model_path in model_paths:\n",
    "    if 'median_norm' in model_path:\n",
    "        model_types[model_path] = 'median_norm'\n",
    "    if 'w_previous' in model_path:\n",
    "        model_types[model_path] = 'w_previous'\n",
    "    else:\n",
    "        model_types[model_path] = 'base'\n"
   ]
  },
  {
   "cell_type": "code",
   "execution_count": 42,
   "id": "c3a3686f",
   "metadata": {},
   "outputs": [
    {
     "name": "stdout",
     "output_type": "stream",
     "text": [
      "dict_keys(['epoch', 'model_state_dict', 'optimizer_state_dict', 'train_loss', 'val_loss'])\n",
      "dict_keys(['epoch', 'model_state_dict', 'optimizer_state_dict', 'train_loss', 'val_loss'])\n",
      "dict_keys(['epoch', 'model_state_dict', 'optimizer_state_dict', 'train_loss', 'val_loss'])\n",
      "dict_keys(['epoch', 'model_state_dict', 'optimizer_state_dict', 'train_loss', 'val_loss'])\n",
      "dict_keys(['epoch', 'model_state_dict', 'optimizer_state_dict', 'train_loss', 'val_loss'])\n",
      "dict_keys(['epoch', 'model_state_dict', 'optimizer_state_dict', 'train_loss', 'val_loss'])\n",
      "dict_keys(['epoch', 'model_state_dict', 'optimizer_state_dict', 'train_loss', 'val_loss'])\n",
      "dict_keys(['epoch', 'model_state_dict', 'optimizer_state_dict', 'train_loss', 'val_loss'])\n",
      "dict_keys(['epoch', 'model_state_dict', 'optimizer_state_dict', 'train_loss', 'val_loss'])\n",
      "dict_keys(['epoch', 'model_state_dict', 'optimizer_state_dict', 'train_loss', 'val_loss'])\n",
      "dict_keys(['epoch', 'model_state_dict', 'optimizer_state_dict', 'train_loss', 'val_loss'])\n",
      "dict_keys(['epoch', 'model_state_dict', 'optimizer_state_dict', 'train_loss', 'val_loss'])\n"
     ]
    }
   ],
   "source": [
    "for model_path in model_paths:\n",
    "    checkpoint = torch.load(checkpoints_path/Path(model_path))\n",
    "    print(checkpoint.keys())"
   ]
  },
  {
   "cell_type": "code",
   "execution_count": null,
   "id": "dd96e338",
   "metadata": {},
   "outputs": [],
   "source": []
  }
 ],
 "metadata": {
  "kernelspec": {
   "display_name": "cell-type-classification",
   "language": "python",
   "name": "python3"
  },
  "language_info": {
   "codemirror_mode": {
    "name": "ipython",
    "version": 3
   },
   "file_extension": ".py",
   "mimetype": "text/x-python",
   "name": "python",
   "nbconvert_exporter": "python",
   "pygments_lexer": "ipython3",
   "version": "3.13.3"
  }
 },
 "nbformat": 4,
 "nbformat_minor": 5
}
