{
 "cells": [
  {
   "cell_type": "code",
   "execution_count": null,
   "metadata": {},
   "outputs": [],
   "source": [
    "import torch\n",
    "import torch.nn as nn\n",
    "\n",
    "from tqdm import tqdm\n",
    "import wandb\n"
   ]
  },
  {
   "cell_type": "code",
   "execution_count": null,
   "metadata": {},
   "outputs": [
    {
     "ename": "",
     "evalue": "",
     "output_type": "error",
     "traceback": [
      "\u001b[1;31mThe Kernel crashed while executing code in the current cell or a previous cell. \n",
      "\u001b[1;31mPlease review the code in the cell(s) to identify a possible cause of the failure. \n",
      "\u001b[1;31mClick <a href='https://aka.ms/vscodeJupyterKernelCrash'>here</a> for more info. \n",
      "\u001b[1;31mView Jupyter <a href='command:jupyter.viewOutput'>log</a> for further details."
     ]
    }
   ],
   "source": [
    "net = Transformer()\n",
    "optim = torch.optim.AdamW(params = net.parameters())\n",
    "loss_fn = nn.CrossEntropyLoss()\n",
    "epochs=100\n",
    "vocab_size = 20000\n",
    "num_classes = 4\n",
    "context_length = 2048\n",
    "\n",
    "Xtest = torch.randint(0,vocab_size,(20,context_length))\n",
    "Ytest = torch.randint(0,num_classes,(20,))\n",
    "\n",
    "Xtrain = torch.randint(0,vocab_size, (20,context_length))\n",
    "Ytrain = torch.randint(0,num_classes,(20,))\n",
    "\n",
    "dataset = torch.utils.data.TensorDataset(Xtrain,Ytrain)\n",
    "dataloader = torch.utils.data.DataLoader(dataset,batch_size=4,shuffle=True)"
   ]
  },
  {
   "cell_type": "code",
   "execution_count": null,
   "metadata": {},
   "outputs": [
    {
     "name": "stderr",
     "output_type": "stream",
     "text": [
      "  0%|          | 0/100 [00:00<?, ?it/s]"
     ]
    },
    {
     "name": "stdout",
     "output_type": "stream",
     "text": [
      "torch.Size([20, 2048, 512])\n",
      "torch.Size([20, 2048, 512])\n",
      "torch.Size([4, 2048, 512])\n",
      "torch.Size([4, 2048, 512])\n",
      "torch.Size([4, 2048, 512])\n",
      "torch.Size([4, 2048, 512])\n",
      "torch.Size([4, 2048, 512])\n"
     ]
    },
    {
     "name": "stderr",
     "output_type": "stream",
     "text": [
      "  1%|          | 1/100 [01:20<2:13:21, 80.83s/it]"
     ]
    }
   ],
   "source": [
    "#wandb.init(project=\"cell_type_classification\",config={})\n",
    "\n",
    "for e in tqdm(range(epochs)):\n",
    "    net.eval()\n",
    "    predTest = net(Xtest)\n",
    "    predTrain = net(Xtrain)\n",
    "    lossTest = loss_fn(predTest,Ytest).item()\n",
    "    loss_fn.zero_grad()\n",
    "    lossTrain = loss_fn(predTrain,Ytrain).item()\n",
    "    loss_fn.zero_grad()\n",
    "    \n",
    "    # wandb.log({\"train_loss\": lossTrain, \"test_loss\": lossTest})\n",
    "\n",
    "    net.train()\n",
    "    for i, (batch_X, batch_Y) in enumerate(dataloader):\n",
    "        pred = net(batch_X)\n",
    "        loss = loss_fn(pred,batch_Y)\n",
    "        loss.backward()\n",
    "        optim.step()\n",
    "        optim.zero_grad()"
   ]
  },
  {
   "cell_type": "code",
   "execution_count": null,
   "metadata": {},
   "outputs": [],
   "source": []
  }
 ],
 "metadata": {
  "kernelspec": {
   "display_name": "somite-take-home",
   "language": "python",
   "name": "python3"
  },
  "language_info": {
   "codemirror_mode": {
    "name": "ipython",
    "version": 3
   },
   "file_extension": ".py",
   "mimetype": "text/x-python",
   "name": "python",
   "nbconvert_exporter": "python",
   "pygments_lexer": "ipython3",
   "version": "3.13.3"
  }
 },
 "nbformat": 4,
 "nbformat_minor": 2
}
