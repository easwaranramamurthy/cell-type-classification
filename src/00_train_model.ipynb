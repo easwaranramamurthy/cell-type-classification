{
 "cells": [
  {
   "cell_type": "code",
   "execution_count": 1,
   "metadata": {},
   "outputs": [],
   "source": [
    "import torch\n",
    "import torch.nn as nn\n",
    "\n",
    "from tqdm import tqdm\n",
    "import wandb\n",
    "\n",
    "import numpy as np\n",
    "import pandas as pd\n",
    "\n",
    "from models.transformer import Transformer"
   ]
  },
  {
   "cell_type": "code",
   "execution_count": null,
   "metadata": {},
   "outputs": [],
   "source": [
    "Xtrain = torch.tensor(np.load('../data/Xtrain_base.npy').astype(int))\n",
    "Ytrain = torch.tensor(np.load('../data/Ytrain_base.npy').astype(int))\n",
    "\n",
    "Xtest = torch.tensor(np.load('../data/Xtest_base.npy').astype(int))\n",
    "Ytest = torch.tensor(np.load('../data/Ytest_base.npy').astype(int))\n",
    "\n",
    "vocab = pd.read_csv('../data/vocab.csv', header=None, index_col=0)\n",
    "vocab_size = vocab.shape[0]\n",
    "cat_label_mapping = pd.read_csv('../data/cat_label_mapping.csv')\n",
    "num_classes = cat_label_mapping.shape[0]\n",
    "context_length = Xtrain.shape[1]\n",
    "\n",
    "\n",
    "net = Transformer(num_layers=4, vocab_size=vocab_size, num_tokens=context_length, d_model=16, d_q_k_v=16, num_heads=4, num_classes=num_classes)\n",
    "optim = torch.optim.AdamW(params = net.parameters())\n",
    "loss_fn = nn.CrossEntropyLoss()\n",
    "epochs=100\n",
    "batch_size=2\n",
    "\n",
    "train_dataset = torch.utils.data.TensorDataset(Xtrain,Ytrain)\n",
    "train_dataloader = torch.utils.data.DataLoader(train_dataset,batch_size=1,shuffle=True)\n",
    "\n",
    "# test_dataset = torch.utils.data.TensorDataset(Xtest,Ytest)\n",
    "# test_dataloader = torch.utils.data.DataLoader(test_dataset,batch_size=1,shuffle=True)"
   ]
  },
  {
   "cell_type": "code",
   "execution_count": 3,
   "metadata": {},
   "outputs": [
    {
     "name": "stderr",
     "output_type": "stream",
     "text": [
      "\u001b[34m\u001b[1mwandb\u001b[0m: Currently logged in as: \u001b[33measwaran\u001b[0m to \u001b[32mhttps://api.wandb.ai\u001b[0m. Use \u001b[1m`wandb login --relogin`\u001b[0m to force relogin\n"
     ]
    },
    {
     "data": {
      "text/html": [
       "Tracking run with wandb version 0.19.10"
      ],
      "text/plain": [
       "<IPython.core.display.HTML object>"
      ]
     },
     "metadata": {},
     "output_type": "display_data"
    },
    {
     "data": {
      "text/html": [
       "Run data is saved locally in <code>/Users/easwaranramamurthy/Desktop/git_repos/cell-type-classification/src/wandb/run-20250506_225151-r7vjyep3</code>"
      ],
      "text/plain": [
       "<IPython.core.display.HTML object>"
      ]
     },
     "metadata": {},
     "output_type": "display_data"
    },
    {
     "data": {
      "text/html": [
       "Syncing run <strong><a href='https://wandb.ai/easwaran/cell_type_classification/runs/r7vjyep3' target=\"_blank\">different-grass-4</a></strong> to <a href='https://wandb.ai/easwaran/cell_type_classification' target=\"_blank\">Weights & Biases</a> (<a href='https://wandb.me/developer-guide' target=\"_blank\">docs</a>)<br>"
      ],
      "text/plain": [
       "<IPython.core.display.HTML object>"
      ]
     },
     "metadata": {},
     "output_type": "display_data"
    },
    {
     "data": {
      "text/html": [
       " View project at <a href='https://wandb.ai/easwaran/cell_type_classification' target=\"_blank\">https://wandb.ai/easwaran/cell_type_classification</a>"
      ],
      "text/plain": [
       "<IPython.core.display.HTML object>"
      ]
     },
     "metadata": {},
     "output_type": "display_data"
    },
    {
     "data": {
      "text/html": [
       " View run at <a href='https://wandb.ai/easwaran/cell_type_classification/runs/r7vjyep3' target=\"_blank\">https://wandb.ai/easwaran/cell_type_classification/runs/r7vjyep3</a>"
      ],
      "text/plain": [
       "<IPython.core.display.HTML object>"
      ]
     },
     "metadata": {},
     "output_type": "display_data"
    },
    {
     "name": "stderr",
     "output_type": "stream",
     "text": [
      "  0%|          | 0/100 [00:00<?, ?it/s]"
     ]
    },
    {
     "ename": "",
     "evalue": "",
     "output_type": "error",
     "traceback": [
      "\u001b[1;31mThe Kernel crashed while executing code in the current cell or a previous cell. \n",
      "\u001b[1;31mPlease review the code in the cell(s) to identify a possible cause of the failure. \n",
      "\u001b[1;31mClick <a href='https://aka.ms/vscodeJupyterKernelCrash'>here</a> for more info. \n",
      "\u001b[1;31mView Jupyter <a href='command:jupyter.viewOutput'>log</a> for further details."
     ]
    }
   ],
   "source": [
    "wandb.init(project=\"cell_type_classification\",config={})\n",
    "\n",
    "for e in tqdm(range(epochs)):\n",
    "    net.eval()\n",
    "    predTest = net(Xtest)\n",
    "    predTrain = net(Xtrain)\n",
    "    lossTest = loss_fn(predTest,Ytest).item()\n",
    "    loss_fn.zero_grad()\n",
    "    lossTrain = loss_fn(predTrain,Ytrain).item()\n",
    "    loss_fn.zero_grad()\n",
    "    \n",
    "    wandb.log({\"train_loss\": lossTrain, \"test_loss\": lossTest})\n",
    "\n",
    "    net.train()\n",
    "    for i, (batch_X, batch_Y) in enumerate(train_dataloader):\n",
    "        pred = net(batch_X)\n",
    "        loss = loss_fn(pred,batch_Y)\n",
    "        loss.backward()\n",
    "        optim.step()\n",
    "        optim.zero_grad()"
   ]
  },
  {
   "cell_type": "code",
   "execution_count": null,
   "metadata": {},
   "outputs": [],
   "source": []
  }
 ],
 "metadata": {
  "kernelspec": {
   "display_name": "cell-type-classification",
   "language": "python",
   "name": "python3"
  },
  "language_info": {
   "codemirror_mode": {
    "name": "ipython",
    "version": 3
   },
   "file_extension": ".py",
   "mimetype": "text/x-python",
   "name": "python",
   "nbconvert_exporter": "python",
   "pygments_lexer": "ipython3",
   "version": "3.13.3"
  }
 },
 "nbformat": 4,
 "nbformat_minor": 2
}
