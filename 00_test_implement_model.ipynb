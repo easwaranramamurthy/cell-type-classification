{
 "cells": [
  {
   "cell_type": "code",
   "execution_count": null,
   "metadata": {},
   "outputs": [],
   "source": [
    "import torch\n",
    "import torch.nn as nn\n",
    "\n",
    "from tqdm import tqdm\n",
    "import wandb\n",
    "\n",
    "from transformer import Transformer"
   ]
  },
  {
   "cell_type": "code",
   "execution_count": null,
   "metadata": {},
   "outputs": [],
   "source": [
    "net = Transformer()\n",
    "optim = torch.optim.AdamW(params = net.parameters())\n",
    "loss_fn = nn.CrossEntropyLoss()\n",
    "epochs=100\n",
    "Xtest = torch.rand(20,200)\n",
    "Ytest = torch.randint(0,4,(20,))\n",
    "Xtrain = torch.rand(40,200)\n",
    "Ytrain = torch.randint(0,4,(40,))\n",
    "\n",
    "dataset = torch.utils.data.TensorDataset(Xtrain,Ytrain)\n",
    "dataloader = torch.utils.data.DataLoader(dataset,batch_size=4,shuffle=True)"
   ]
  },
  {
   "cell_type": "code",
   "execution_count": null,
   "metadata": {},
   "outputs": [],
   "source": [
    "wandb.init(\n",
    "    project=\"cell_type_classification\",\n",
    "    config={}\n",
    ")\n",
    "\n",
    "\n",
    "for e in tqdm(range(epochs)):\n",
    "    net.eval()\n",
    "    predTest = net(Xtest)\n",
    "    predTrain = net(Xtrain)\n",
    "    lossTest = loss_fn(predTest,Ytest).item()\n",
    "    loss_fn.zero_grad()\n",
    "    lossTrain = loss_fn(predTrain,Ytrain).item()\n",
    "    loss_fn.zero_grad()\n",
    "    \n",
    "    wandb.log({\"train_loss\": lossTrain, \"test_loss\": lossTest})\n",
    "\n",
    "    net.train()\n",
    "    for i, (batch_X, batch_Y) in enumerate(dataloader):\n",
    "        pred = net(batch_X)\n",
    "        loss = loss_fn(pred,batch_Y)\n",
    "        loss.backward()\n",
    "        optim.step()\n",
    "        optim.zero_grad()"
   ]
  }
 ],
 "metadata": {
  "kernelspec": {
   "display_name": "somite-take-home",
   "language": "python",
   "name": "python3"
  },
  "language_info": {
   "codemirror_mode": {
    "name": "ipython",
    "version": 3
   },
   "file_extension": ".py",
   "mimetype": "text/x-python",
   "name": "python",
   "nbconvert_exporter": "python",
   "pygments_lexer": "ipython3",
   "version": "3.13.3"
  }
 },
 "nbformat": 4,
 "nbformat_minor": 2
}
